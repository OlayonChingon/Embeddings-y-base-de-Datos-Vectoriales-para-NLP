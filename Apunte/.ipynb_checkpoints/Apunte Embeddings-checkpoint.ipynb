{
 "cells": [
  {
   "cell_type": "markdown",
   "id": "a4cd18b2-4143-42b7-832f-d8a02d807fa0",
   "metadata": {},
   "source": [
    "# Embeddings y base de Datos Vectoriales para NLP"
   ]
  },
  {
   "cell_type": "markdown",
   "id": "fa8377f3-e1da-474f-8083-7f98ab38f941",
   "metadata": {},
   "source": [
    "## Clase 1 - Como una maquina entiende el lenguaje humano"
   ]
  },
  {
   "cell_type": "code",
   "execution_count": null,
   "id": "83e3c964-ff1c-4b7d-b2ad-05d275b9a809",
   "metadata": {},
   "outputs": [],
   "source": [
    "![image](src/4.JPG)"
   ]
  },
  {
   "cell_type": "code",
   "execution_count": null,
   "id": "8a74694f-d00c-4879-a570-9d636aa49952",
   "metadata": {},
   "outputs": [],
   "source": []
  }
 ],
 "metadata": {
  "kernelspec": {
   "display_name": "Python 3 (ipykernel)",
   "language": "python",
   "name": "python3"
  },
  "language_info": {
   "codemirror_mode": {
    "name": "ipython",
    "version": 3
   },
   "file_extension": ".py",
   "mimetype": "text/x-python",
   "name": "python",
   "nbconvert_exporter": "python",
   "pygments_lexer": "ipython3",
   "version": "3.10.10"
  }
 },
 "nbformat": 4,
 "nbformat_minor": 5
}
